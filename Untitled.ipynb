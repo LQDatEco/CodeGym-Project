{
 "cells": [
  {
   "cell_type": "code",
   "execution_count": 4,
   "id": "7f45f90e",
   "metadata": {
    "scrolled": true
   },
   "outputs": [
    {
     "name": "stdout",
     "output_type": "stream",
     "text": [
      "Le Quang Dat\n"
     ]
    }
   ],
   "source": [
    "print(\"Le Quang Dat\")"
   ]
  },
  {
   "cell_type": "code",
   "execution_count": 5,
   "id": "be58dcca",
   "metadata": {},
   "outputs": [
    {
     "name": "stdout",
     "output_type": "stream",
     "text": [
      "Xin chao moi nguoi!\n"
     ]
    }
   ],
   "source": [
    "print(\"Xin chao moi nguoi!\")"
   ]
  },
  {
   "cell_type": "code",
   "execution_count": null,
   "id": "19eda557",
   "metadata": {},
   "outputs": [],
   "source": []
  },
  {
   "cell_type": "code",
   "execution_count": null,
   "id": "2e334044",
   "metadata": {},
   "outputs": [],
   "source": []
  },
  {
   "cell_type": "code",
   "execution_count": null,
   "id": "3ce1de8c",
   "metadata": {},
   "outputs": [],
   "source": []
  }
 ],
 "metadata": {
  "kernelspec": {
   "display_name": "Python 3 (ipykernel)",
   "language": "python",
   "name": "python3"
  },
  "language_info": {
   "codemirror_mode": {
    "name": "ipython",
    "version": 3
   },
   "file_extension": ".py",
   "mimetype": "text/x-python",
   "name": "python",
   "nbconvert_exporter": "python",
   "pygments_lexer": "ipython3",
   "version": "3.9.6"
  }
 },
 "nbformat": 4,
 "nbformat_minor": 5
}
